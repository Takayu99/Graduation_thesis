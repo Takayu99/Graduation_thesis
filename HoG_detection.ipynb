{
 "cells": [
  {
   "cell_type": "code",
   "execution_count": 1,
   "metadata": {},
   "outputs": [
    {
     "name": "stdout",
     "output_type": "stream",
     "text": [
      "time: 0:03:18.610399\n",
      "waittime:  1.794\n"
     ]
    }
   ],
   "source": [
    "import cv2\n",
    "import glob\n",
    "import os\n",
    "import datetime\n",
    "\n",
    "start_time = datetime.datetime.now()\n",
    "folder_name = \"downsampling_data\"\n",
    "n = \"11\"\n",
    "file_path = \"../output/\" + folder_name + \"/3-\" + n + \"/*\"\n",
    "os.makedirs(\"../output/\" + folder_name + \"_hog/3-\" + n, exist_ok = True)\n",
    "\n",
    "datas = glob.glob(file_path)\n",
    "h, w, c = 480, 640, 3\n",
    "\n",
    "hog = cv2.HOGDescriptor()\n",
    "hog.setSVMDetector(cv2.HOGDescriptor_getDefaultPeopleDetector())\n",
    "\n",
    "counter = 0\n",
    "for data in datas:\n",
    "    img = cv2.imread(data)\n",
    "    img_name = data.replace(folder_name, folder_name + \"_hog\")\n",
    "    # human detection\n",
    "    (rects, weights) = hog.detectMultiScale(img, winStride=(4, 4), padding=(4, 4), scale=1.05)\n",
    "    \n",
    "    # draw result\n",
    "    for (x, y, w, h) in rects:\n",
    "        cv2.rectangle(img, (x, y), (x + w, y + h), (0, 255, 0), 2)\n",
    "\n",
    "#     cv2.imwrite(img_name, img)\n",
    "    cv2.imshow(\"image\", img)\n",
    "    cv2.waitKey(1)\n",
    "    counter += 1\n",
    "    \n",
    "    \n",
    "cv2.destroyAllWindows()\n",
    "end_time = datetime.datetime.now() - start_time\n",
    "print(\"time: %s\" % str(end_time))\n",
    "print(\"waittime: \", counter * 0.001)"
   ]
  },
  {
   "cell_type": "code",
   "execution_count": null,
   "metadata": {},
   "outputs": [],
   "source": []
  }
 ],
 "metadata": {
  "kernelspec": {
   "display_name": "Python 3",
   "language": "python",
   "name": "python3"
  },
  "language_info": {
   "codemirror_mode": {
    "name": "ipython",
    "version": 3
   },
   "file_extension": ".py",
   "mimetype": "text/x-python",
   "name": "python",
   "nbconvert_exporter": "python",
   "pygments_lexer": "ipython3",
   "version": "3.6.12"
  }
 },
 "nbformat": 4,
 "nbformat_minor": 4
}
