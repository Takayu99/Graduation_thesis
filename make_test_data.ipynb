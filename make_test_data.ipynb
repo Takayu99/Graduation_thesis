{
 "cells": [
  {
   "cell_type": "code",
   "execution_count": 10,
   "metadata": {},
   "outputs": [],
   "source": [
    "import glob\n",
    "from shutil import copyfile\n",
    "\n",
    "files = glob.glob(\"../output/downsampling_data/3-11/*\")\n",
    "out_path = \"../output/test_data/3-11/\"\n",
    "text_name = \"val.txt\"\n",
    "\n",
    "cnt = 0\n",
    "counter = 0\n",
    "\n",
    "with open(out_path + text_name, mode = \"w\") as f:\n",
    "    for file in files:\n",
    "        if (counter % 50) == 0:\n",
    "            num = str(cnt).zfill(3)\n",
    "            dst_name = out_path + num + \".jpg\"\n",
    "            copyfile(file, dst_name)\n",
    "            f.write(num + \"\\n\")\n",
    "            cnt += 1\n",
    "        counter += 1\n",
    "print(cnt + 1)"
   ]
  }
 ],
 "metadata": {
  "kernelspec": {
   "display_name": "Python 3",
   "language": "python",
   "name": "python3"
  },
  "language_info": {
   "codemirror_mode": {
    "name": "ipython",
    "version": 3
   },
   "file_extension": ".py",
   "mimetype": "text/x-python",
   "name": "python",
   "nbconvert_exporter": "python",
   "pygments_lexer": "ipython3",
   "version": "3.6.9"
  }
 },
 "nbformat": 4,
 "nbformat_minor": 4
}
